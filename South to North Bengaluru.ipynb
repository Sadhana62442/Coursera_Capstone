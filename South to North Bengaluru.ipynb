{
 "cells": [
  {
   "cell_type": "markdown",
   "metadata": {},
   "source": [
    "# Battle of the Neighbourhoods"
   ]
  },
  {
   "cell_type": "markdown",
   "metadata": {},
   "source": [
    "## South to North Bengaluru"
   ]
  },
  {
   "cell_type": "markdown",
   "metadata": {},
   "source": [
    "### Introduction"
   ]
  },
  {
   "cell_type": "markdown",
   "metadata": {},
   "source": [
    "Bengaluru is a large metropolitan city in South India. It is a major technology and start-up hub of the country and, as a result, has seen rapid growth and expansion over the past decade."
   ]
  },
  {
   "cell_type": "markdown",
   "metadata": {},
   "source": [
    "![](Bengaluru_map.png)"
   ]
  },
  {
   "cell_type": "markdown",
   "metadata": {},
   "source": [
    "Bengaluru attracts several techies from across the country who are employed by global Tech giants like Microsoft, Google, Uber, etc. that have their Indian offices in the city and by start-ups that are causing waves in the domestic market. These companies are usually nested within large Tech Parks with sprawling campuses scattered all across the city. "
   ]
  },
  {
   "cell_type": "markdown",
   "metadata": {},
   "source": [
    "Apart from this, Bengaluru is also well known for its happening nightlife, thanks to the young working populace. The city is home to a large number of microbreweries and other eateries, catering to every palette, which attract large crowds even on weekdays."
   ]
  },
  {
   "cell_type": "markdown",
   "metadata": {},
   "source": [
    "On the downside, due to the sudden, uncontrolled expansion witnessed by the city, the traffic is a nightmare, especially at peak hours in the morning and evening. A lack of good intracity public transport system results in a lot of private vehicles on the road causing congestions. It is not uncommon for an average commuter to spend upwards of 3 hours on the road on bad days."
   ]
  },
  {
   "cell_type": "markdown",
   "metadata": {},
   "source": [
    "Working professionals tend to consider renting out flats that are in close proximity to their workplaces in neighbourhoods that have an affordable rental rates. Additionally, a neighbourhood that has easy access basic amenities, restaurants, entertainment centers is much sought after."
   ]
  },
  {
   "cell_type": "markdown",
   "metadata": {},
   "source": [
    "HSR Layout is an area in south Bengaluru that is one such locality. It is connected to some of the largest Tech Parks in surrounding areas like Bellandur, Sarjapur, Electronic City apart from sprouting several start-ups. It is also a hub for food and shopping and is only a short distance away from Koramangala that is a popular pub hopping destination."
   ]
  },
  {
   "cell_type": "markdown",
   "metadata": {},
   "source": [
    "![](HSRLayout_map.png)"
   ]
  },
  {
   "cell_type": "markdown",
   "metadata": {},
   "source": [
    "However, if a resident of HSR Layout lands a new job in Manyata Tech Park or World Trade Center which is in North Bengaluru, then they will have to rent out a new flat closer to their workplace to avoid long hours commuting. Hence, a neighbourhood needs to be identified for residing in, which is similar to HSR Layout but is in North Bengaluru."
   ]
  },
  {
   "cell_type": "markdown",
   "metadata": {},
   "source": [
    "This can also be extended to identify other neighbourhoods in Bengaluru that are similar to HSR Layout or to identify clusters of similar neighbourhoods. This would help those looking to move from one part of Bengaluru that they are familiar with to another, new one to shortlist localities to start their house hunting."
   ]
  },
  {
   "cell_type": "markdown",
   "metadata": {},
   "source": [
    "### Data"
   ]
  },
  {
   "cell_type": "markdown",
   "metadata": {},
   "source": [
    "For the purpose of this project, the required data inputs and their sources are as given below:"
   ]
  },
  {
   "cell_type": "markdown",
   "metadata": {},
   "source": [
    "| Data input required | Data source | Example |\n",
    "| --- | --- | --- |\n",
    "| Localities in Bengaluru | Makaan.com  Bengaluru rental rates page | HSR Layout, Malleshwaram, Kalyan Nagar |\n",
    "| Rental rates of localities | Makaan.com Bengaluru rental rates page | Average rental rates for 2BHK in th localities |\n",
    "| Coordinates of localities | Geocoder and Geopy | Latitude and longitudes of the localities |\n",
    "| Popular spots in a locality | Foursquare API | Restaurants, entertainment centers, bars |"
   ]
  },
  {
   "cell_type": "markdown",
   "metadata": {},
   "source": [
    "The details of the localities and the average property rental rates in Bengaluru to be considered will be fetched from this Makaan.com page: https://www.makaan.com/price-trends/property-rates-for-rent-in-bangalore?page=1"
   ]
  },
  {
   "cell_type": "markdown",
   "metadata": {},
   "source": [
    "A sample page of data is presented below."
   ]
  },
  {
   "cell_type": "markdown",
   "metadata": {},
   "source": [
    "![](Bengaluru_localities_makaandotcom.png)"
   ]
  },
  {
   "cell_type": "markdown",
   "metadata": {},
   "source": [
    "Of this, only the average rental rates of 2BHK will considered. Also, data from the first 10 pages of results will be considered as the data quality has been observed to drop after that."
   ]
  }
 ],
 "metadata": {
  "kernelspec": {
   "display_name": "Python",
   "language": "python",
   "name": "conda-env-python-py"
  },
  "language_info": {
   "codemirror_mode": {
    "name": "ipython",
    "version": 3
   },
   "file_extension": ".py",
   "mimetype": "text/x-python",
   "name": "python",
   "nbconvert_exporter": "python",
   "pygments_lexer": "ipython3",
   "version": "3.6.10"
  }
 },
 "nbformat": 4,
 "nbformat_minor": 4
}

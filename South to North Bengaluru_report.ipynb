{
 "cells": [
  {
   "cell_type": "markdown",
   "metadata": {},
   "source": [
    "# South to North Bengaluru"
   ]
  },
  {
   "cell_type": "markdown",
   "metadata": {},
   "source": [
    "## Sadhana Rajendran"
   ]
  },
  {
   "cell_type": "markdown",
   "metadata": {},
   "source": [
    "## 17th April, 2020"
   ]
  },
  {
   "cell_type": "markdown",
   "metadata": {},
   "source": [
    "### 1. Introduction"
   ]
  },
  {
   "cell_type": "markdown",
   "metadata": {},
   "source": [
    "#### 1.1 Bengaluru city"
   ]
  },
  {
   "cell_type": "markdown",
   "metadata": {},
   "source": [
    "Bengaluru is a large metropolitan city in South India. It is a major technology and start-up hub of the country and, as a result, has seen rapid growth and expansion over the past decade."
   ]
  },
  {
   "cell_type": "markdown",
   "metadata": {},
   "source": [
    "![](Bengaluru_map.png)"
   ]
  },
  {
   "cell_type": "markdown",
   "metadata": {},
   "source": [
    "Bengaluru attracts several techies from across the country who are employed by global Tech giants like Microsoft, Google, Uber, etc. that have their Indian offices in the city and by start-ups that are causing waves in the domestic market. These companies are usually nested within large Tech Parks with sprawling campuses scattered all across the city. "
   ]
  },
  {
   "cell_type": "markdown",
   "metadata": {},
   "source": [
    "Apart from this, Bengaluru is also well known for its happening nightlife, thanks to the young working populace. The city is home to a large number of microbreweries and other eateries, catering to every palette, which attract large crowds even on weekdays."
   ]
  },
  {
   "cell_type": "markdown",
   "metadata": {},
   "source": [
    "On the downside, due to the sudden, uncontrolled expansion witnessed by the city, the traffic is a nightmare, especially at peak hours in the morning and evening. A lack of good intracity public transport system results in a lot of private vehicles on the road causing congestions. It is not uncommon for an average commuter to spend upwards of 3 hours on the road on bad days."
   ]
  },
  {
   "cell_type": "markdown",
   "metadata": {},
   "source": [
    "Working professionals tend to consider renting out flats that are in close proximity to their workplaces in neighbourhoods that have an affordable rental rates. Additionally, a neighbourhood that has easy access basic amenities, restaurants, entertainment centers is much sought after."
   ]
  },
  {
   "cell_type": "markdown",
   "metadata": {},
   "source": [
    "#### 1.2 HSR Layout neighbourhood"
   ]
  },
  {
   "cell_type": "markdown",
   "metadata": {},
   "source": [
    "HSR Layout is an area in south Bengaluru that is one such locality. It is connected to some of the largest Tech Parks in surrounding areas like Bellandur, Sarjapur, Electronic City apart from sprouting several start-ups. It is also a hub for food and shopping and is only a short distance away from Koramangala that is a popular pub hopping destination."
   ]
  },
  {
   "cell_type": "markdown",
   "metadata": {},
   "source": [
    "![](HSRLayout_map.png)"
   ]
  },
  {
   "cell_type": "markdown",
   "metadata": {},
   "source": [
    "However, if a resident of HSR Layout lands a new job in Manyata Tech Park or World Trade Center which is in North Bengaluru, then they will have to rent out a new flat closer to their workplace to avoid long hours commuting. Hence, a neighbourhood needs to be identified for residing in, which is similar to HSR Layout but is in North Bengaluru."
   ]
  },
  {
   "cell_type": "markdown",
   "metadata": {},
   "source": [
    "This can also be extended to identify other neighbourhoods in Bengaluru that are similar to HSR Layout or to identify clusters of similar neighbourhoods. This would help those looking to move from one part of Bengaluru that they are familiar with to another, new one to shortlist localities to start their house hunting."
   ]
  },
  {
   "cell_type": "markdown",
   "metadata": {},
   "source": [
    "#### 1.3 Problem"
   ]
  },
  {
   "cell_type": "markdown",
   "metadata": {},
   "source": [
    "Grouping neighbourhoods of Bengaluru to help house hunters who have to move from one part of the city to another or small business owners who want to set up an outlet in a different part of the city, to identify potential neighbourhoods that suits their purpose with similar:\n",
    "- Rental rates\n",
    "- Access to amenities\n",
    "\n",
    "With this information identify a neighbourhood in North Bengaluru that is similar to HSR Layout in South Bengaluru."
   ]
  },
  {
   "cell_type": "markdown",
   "metadata": {},
   "source": [
    "### 2. Data"
   ]
  },
  {
   "cell_type": "markdown",
   "metadata": {},
   "source": [
    "#### 2.1 Data description and sources"
   ]
  },
  {
   "cell_type": "markdown",
   "metadata": {},
   "source": [
    "For the purpose of this project, the required data inputs and their sources are as given below:"
   ]
  },
  {
   "cell_type": "markdown",
   "metadata": {},
   "source": [
    "| Data input required | Data source | Example |\n",
    "| --- | --- | --- |\n",
    "| Localities in Bengaluru | Makaan.com  Bengaluru rental rates page | HSR Layout, Malleshwaram, Kalyan Nagar |\n",
    "| Rental rates of localities | Makaan.com Bengaluru rental rates page | Average rental rates for 2BHK in th localities |\n",
    "| Coordinates of localities | Geocoder and Geopy | Latitude and longitudes of the localities |\n",
    "| Popular spots in a locality | Foursquare API | Restaurants, entertainment centers, bars |"
   ]
  },
  {
   "cell_type": "markdown",
   "metadata": {},
   "source": [
    "The details of the localities and the average property rental rates in Bengaluru to be considered will be fetched from this Makaan.com page: https://www.makaan.com/price-trends/property-rates-for-rent-in-bangalore?page=1"
   ]
  },
  {
   "cell_type": "markdown",
   "metadata": {},
   "source": [
    "A sample page of data is presented below."
   ]
  },
  {
   "cell_type": "markdown",
   "metadata": {},
   "source": [
    "![](Bengaluru_localities_makaandotcom.png)"
   ]
  },
  {
   "cell_type": "markdown",
   "metadata": {},
   "source": [
    "#### 2.2 Bengaluru neighbourhoods data collect and processing"
   ]
  },
  {
   "cell_type": "markdown",
   "metadata": {},
   "source": [
    "Data is imported from the Makaan.com pages by scraping the site. The details of the neighbourhoods are stored along with the average rental rates of 2BHKs in the neighbourhoods. Only the 2BHK rates are considered for the purpose of this project. Also, only data from the first 10 pages of results is be considered as the data quality was observed to drop after that."
   ]
  },
  {
   "cell_type": "markdown",
   "metadata": {},
   "source": [
    "The following actions are performed on the data scraped from Makaan.com:\n",
    "- Records which have poor data quality (eg.: '-' values for rental rates)\n",
    "- Modify data type of the average rental rate of the neighbourhoods to float so that mathematical operations can be performed\n",
    "- Remove records where the neighbourhood names were garbage (eg.: Neighbourhood value '2nd cross road')"
   ]
  },
  {
   "cell_type": "markdown",
   "metadata": {},
   "source": [
    "It was observed that there were several cases where the same neighbourhood had been repeated twice albeit with slightly different spellings. In such cases, the multiple records for the same neighbourhood were combined to form one row with the value of the average rental rate taken to be the average of the records."
   ]
  },
  {
   "cell_type": "markdown",
   "metadata": {},
   "source": [
    "Next,the geographical coordinates of the neighbourhoods are fetched using Geocoder. It is to be noted that not all neighbourhoods fetch results from Geocoder. Hence, such neighbourhoods are skipped while traversing the list. These rows have latitudes and longitudes as NaN post processing which are then dropped."
   ]
  },
  {
   "cell_type": "markdown",
   "metadata": {},
   "source": [
    "#### 2.3 Venues data collect and cleaning"
   ]
  },
  {
   "cell_type": "markdown",
   "metadata": {},
   "source": [
    "The top 150 popular venues within a 1.75km radius of a neighbourhood's coordinates are fetched using the Foursquare API and consolidated in the same table. Columns are added for each venue category encountered. Each column gives the number of venues belonging to that particular category in the area of the neighbourhood."
   ]
  },
  {
   "cell_type": "markdown",
   "metadata": {},
   "source": [
    "A new column is added to store the count of popular venues in a neighbourhood."
   ]
  },
  {
   "cell_type": "markdown",
   "metadata": {},
   "source": [
    "### 3. Methodology"
   ]
  },
  {
   "cell_type": "markdown",
   "metadata": {},
   "source": [
    "#### 3.1 Preliminary data analysis"
   ]
  },
  {
   "cell_type": "markdown",
   "metadata": {},
   "source": [
    "A box plot is plotted to visualize the rental rate rate data."
   ]
  },
  {
   "cell_type": "markdown",
   "metadata": {},
   "source": [
    "![](Boxplot.png)"
   ]
  },
  {
   "cell_type": "markdown",
   "metadata": {},
   "source": [
    "The average rental rates were fetched for 340 neighbourhoods of Bengaluru.\n",
    "\n",
    "It can be observed from the initial analysis of the average rental rates in the neighbourhoods of Bengaluru that:\n",
    "- the average rental rate across Bengaluru city is Rs. 18000 (approx) with a standard deviation of Rs. 7800 (approx)\n",
    "- half the neighbourhoods have have an average rental rate between Rs. 13500-21000\n",
    "- with an average rental rate of Rs. 26750, HSR layout is on the higher end (4th quartile) of the spectrum\n",
    "- there are several neighbourhoods in Bengaluru that can be considered to be be outliers due to extremely high average rental rates"
   ]
  },
  {
   "cell_type": "markdown",
   "metadata": {},
   "source": [
    "The neighbourhoods are then plotted on a map to visualize their geographic spread."
   ]
  },
  {
   "cell_type": "markdown",
   "metadata": {},
   "source": [
    "![](Bengaluru_neighbourhoods.png)"
   ]
  },
  {
   "cell_type": "markdown",
   "metadata": {},
   "source": [
    "#### 3.2 K-means clustering"
   ]
  },
  {
   "cell_type": "markdown",
   "metadata": {},
   "source": [
    "K-means clustering is the chosen approach to group the neighbourhoods of Bengaluru.\n",
    "\n",
    "As a first step, the optimal value of K to be used is determined using the elbow point method as shown below."
   ]
  },
  {
   "cell_type": "markdown",
   "metadata": {},
   "source": [
    "![](Elbow.png)"
   ]
  },
  {
   "cell_type": "markdown",
   "metadata": {},
   "source": [
    "The value of K in the K-means clustering algorithm is chosen to be 6 as the curve shown above becomes linear from this point onwards."
   ]
  },
  {
   "cell_type": "markdown",
   "metadata": {},
   "source": [
    "The results of the K-means clustering algorithm are stored in the same table. The Cluster labels calculated are added as a column with a value ranging between 0-5 for each neighbourhood."
   ]
  },
  {
   "cell_type": "markdown",
   "metadata": {},
   "source": [
    "The mean rental rate and the number of amenities per neighbourhood was calculated for each cluster so formed."
   ]
  },
  {
   "cell_type": "markdown",
   "metadata": {},
   "source": [
    "![](Summary.png)"
   ]
  },
  {
   "cell_type": "markdown",
   "metadata": {},
   "source": [
    "#### 3.3 Regression"
   ]
  },
  {
   "cell_type": "markdown",
   "metadata": {},
   "source": [
    "Since amenities count and average rental rates of the clusters appear to be related, a linear regression is performed on the entire dataset to view the relationship."
   ]
  },
  {
   "cell_type": "markdown",
   "metadata": {},
   "source": [
    "![](Regression.png)"
   ]
  },
  {
   "cell_type": "markdown",
   "metadata": {},
   "source": [
    "Thus, it can be seen that there exists a linear relationship between the average rental rate of a neighbuorhood and the amentities available in it."
   ]
  },
  {
   "cell_type": "markdown",
   "metadata": {},
   "source": [
    "### 4. Results"
   ]
  },
  {
   "cell_type": "markdown",
   "metadata": {},
   "source": [
    "The Bengaluru city has been divided into 6 clusters based on rental rates and amenities present in the neighbourhoods."
   ]
  },
  {
   "cell_type": "markdown",
   "metadata": {},
   "source": [
    "#### 4.1 Clustered Bengaluru neighbourhoods"
   ]
  },
  {
   "cell_type": "markdown",
   "metadata": {},
   "source": [
    "The neighbourhoods are plotted on a Map again, this time with the results of the clustering. The markers are encoded with colours indicating the cluster."
   ]
  },
  {
   "cell_type": "markdown",
   "metadata": {},
   "source": [
    "![](Clustered.png)"
   ]
  },
  {
   "cell_type": "markdown",
   "metadata": {},
   "source": [
    "#### 4.2 HSR equivalent in North Bengaluru"
   ]
  },
  {
   "cell_type": "markdown",
   "metadata": {},
   "source": [
    "Based on the clustering and the visualization of the clusters, the neighbourhoods in North Bengaluru that is similar to HSR Layout in South Bengaluru are Sanjaynagar and RMV, both of which are located pretty close together and, hence, to simply the result, we finalize Sanjaynagar to be the location of choice.\n",
    "\n",
    "Both HSR Layout and Sanjaynagar belong to Cluster 5. A comparison of the two neighbourhoods based upon their rental rate and their amenities is given below."
   ]
  },
  {
   "cell_type": "markdown",
   "metadata": {},
   "source": [
    "![](HSR_San.png)"
   ]
  },
  {
   "cell_type": "code",
   "execution_count": 41,
   "metadata": {},
   "outputs": [
    {
     "data": {
      "text/html": [
       "<div>\n",
       "<style scoped>\n",
       "    .dataframe tbody tr th:only-of-type {\n",
       "        vertical-align: middle;\n",
       "    }\n",
       "\n",
       "    .dataframe tbody tr th {\n",
       "        vertical-align: top;\n",
       "    }\n",
       "\n",
       "    .dataframe thead th {\n",
       "        text-align: right;\n",
       "    }\n",
       "</style>\n",
       "<table border=\"1\" class=\"dataframe\">\n",
       "  <thead>\n",
       "    <tr style=\"text-align: right;\">\n",
       "      <th></th>\n",
       "      <th></th>\n",
       "      <th>Count</th>\n",
       "    </tr>\n",
       "    <tr>\n",
       "      <th>Venue Category</th>\n",
       "      <th>Neighbourhood</th>\n",
       "      <th></th>\n",
       "    </tr>\n",
       "  </thead>\n",
       "  <tbody>\n",
       "    <tr>\n",
       "      <th>American Restaurant</th>\n",
       "      <th>HSR Layout</th>\n",
       "      <td>1</td>\n",
       "    </tr>\n",
       "    <tr>\n",
       "      <th>Asian Restaurant</th>\n",
       "      <th>Sanjaynagar</th>\n",
       "      <td>1</td>\n",
       "    </tr>\n",
       "    <tr>\n",
       "      <th>BBQ Joint</th>\n",
       "      <th>HSR Layout</th>\n",
       "      <td>1</td>\n",
       "    </tr>\n",
       "    <tr>\n",
       "      <th>Bakery</th>\n",
       "      <th>HSR Layout</th>\n",
       "      <td>1</td>\n",
       "    </tr>\n",
       "    <tr>\n",
       "      <th>Bar</th>\n",
       "      <th>Sanjaynagar</th>\n",
       "      <td>1</td>\n",
       "    </tr>\n",
       "    <tr>\n",
       "      <th>Bike Shop</th>\n",
       "      <th>HSR Layout</th>\n",
       "      <td>1</td>\n",
       "    </tr>\n",
       "    <tr>\n",
       "      <th>Breakfast Spot</th>\n",
       "      <th>Sanjaynagar</th>\n",
       "      <td>1</td>\n",
       "    </tr>\n",
       "    <tr>\n",
       "      <th rowspan=\"2\" valign=\"top\">Burger Joint</th>\n",
       "      <th>HSR Layout</th>\n",
       "      <td>1</td>\n",
       "    </tr>\n",
       "    <tr>\n",
       "      <th>Sanjaynagar</th>\n",
       "      <td>1</td>\n",
       "    </tr>\n",
       "    <tr>\n",
       "      <th>Business Service</th>\n",
       "      <th>HSR Layout</th>\n",
       "      <td>1</td>\n",
       "    </tr>\n",
       "    <tr>\n",
       "      <th rowspan=\"2\" valign=\"top\">Café</th>\n",
       "      <th>HSR Layout</th>\n",
       "      <td>7</td>\n",
       "    </tr>\n",
       "    <tr>\n",
       "      <th>Sanjaynagar</th>\n",
       "      <td>2</td>\n",
       "    </tr>\n",
       "    <tr>\n",
       "      <th>Chettinad Restaurant</th>\n",
       "      <th>HSR Layout</th>\n",
       "      <td>1</td>\n",
       "    </tr>\n",
       "    <tr>\n",
       "      <th rowspan=\"2\" valign=\"top\">Chinese Restaurant</th>\n",
       "      <th>HSR Layout</th>\n",
       "      <td>2</td>\n",
       "    </tr>\n",
       "    <tr>\n",
       "      <th>Sanjaynagar</th>\n",
       "      <td>5</td>\n",
       "    </tr>\n",
       "    <tr>\n",
       "      <th rowspan=\"2\" valign=\"top\">Coffee Shop</th>\n",
       "      <th>HSR Layout</th>\n",
       "      <td>1</td>\n",
       "    </tr>\n",
       "    <tr>\n",
       "      <th>Sanjaynagar</th>\n",
       "      <td>1</td>\n",
       "    </tr>\n",
       "    <tr>\n",
       "      <th rowspan=\"2\" valign=\"top\">Department Store</th>\n",
       "      <th>HSR Layout</th>\n",
       "      <td>4</td>\n",
       "    </tr>\n",
       "    <tr>\n",
       "      <th>Sanjaynagar</th>\n",
       "      <td>2</td>\n",
       "    </tr>\n",
       "    <tr>\n",
       "      <th>Diner</th>\n",
       "      <th>Sanjaynagar</th>\n",
       "      <td>1</td>\n",
       "    </tr>\n",
       "    <tr>\n",
       "      <th rowspan=\"2\" valign=\"top\">Fast Food Restaurant</th>\n",
       "      <th>HSR Layout</th>\n",
       "      <td>1</td>\n",
       "    </tr>\n",
       "    <tr>\n",
       "      <th>Sanjaynagar</th>\n",
       "      <td>6</td>\n",
       "    </tr>\n",
       "    <tr>\n",
       "      <th>Fish &amp; Chips Shop</th>\n",
       "      <th>HSR Layout</th>\n",
       "      <td>1</td>\n",
       "    </tr>\n",
       "    <tr>\n",
       "      <th>Frozen Yogurt Shop</th>\n",
       "      <th>Sanjaynagar</th>\n",
       "      <td>1</td>\n",
       "    </tr>\n",
       "    <tr>\n",
       "      <th>German Restaurant</th>\n",
       "      <th>Sanjaynagar</th>\n",
       "      <td>1</td>\n",
       "    </tr>\n",
       "    <tr>\n",
       "      <th rowspan=\"2\" valign=\"top\">Gym</th>\n",
       "      <th>HSR Layout</th>\n",
       "      <td>2</td>\n",
       "    </tr>\n",
       "    <tr>\n",
       "      <th>Sanjaynagar</th>\n",
       "      <td>1</td>\n",
       "    </tr>\n",
       "    <tr>\n",
       "      <th rowspan=\"2\" valign=\"top\">Ice Cream Shop</th>\n",
       "      <th>HSR Layout</th>\n",
       "      <td>5</td>\n",
       "    </tr>\n",
       "    <tr>\n",
       "      <th>Sanjaynagar</th>\n",
       "      <td>8</td>\n",
       "    </tr>\n",
       "    <tr>\n",
       "      <th rowspan=\"2\" valign=\"top\">Indian Restaurant</th>\n",
       "      <th>HSR Layout</th>\n",
       "      <td>5</td>\n",
       "    </tr>\n",
       "    <tr>\n",
       "      <th>Sanjaynagar</th>\n",
       "      <td>15</td>\n",
       "    </tr>\n",
       "    <tr>\n",
       "      <th rowspan=\"2\" valign=\"top\">Italian Restaurant</th>\n",
       "      <th>HSR Layout</th>\n",
       "      <td>3</td>\n",
       "    </tr>\n",
       "    <tr>\n",
       "      <th>Sanjaynagar</th>\n",
       "      <td>2</td>\n",
       "    </tr>\n",
       "    <tr>\n",
       "      <th>Kebab Restaurant</th>\n",
       "      <th>HSR Layout</th>\n",
       "      <td>1</td>\n",
       "    </tr>\n",
       "    <tr>\n",
       "      <th>Lake</th>\n",
       "      <th>HSR Layout</th>\n",
       "      <td>1</td>\n",
       "    </tr>\n",
       "    <tr>\n",
       "      <th>Maharashtrian Restaurant</th>\n",
       "      <th>HSR Layout</th>\n",
       "      <td>1</td>\n",
       "    </tr>\n",
       "    <tr>\n",
       "      <th rowspan=\"2\" valign=\"top\">Mediterranean Restaurant</th>\n",
       "      <th>HSR Layout</th>\n",
       "      <td>1</td>\n",
       "    </tr>\n",
       "    <tr>\n",
       "      <th>Sanjaynagar</th>\n",
       "      <td>1</td>\n",
       "    </tr>\n",
       "    <tr>\n",
       "      <th>Mexican Restaurant</th>\n",
       "      <th>Sanjaynagar</th>\n",
       "      <td>1</td>\n",
       "    </tr>\n",
       "    <tr>\n",
       "      <th>Middle Eastern Restaurant</th>\n",
       "      <th>HSR Layout</th>\n",
       "      <td>1</td>\n",
       "    </tr>\n",
       "    <tr>\n",
       "      <th>Motorcycle Shop</th>\n",
       "      <th>Sanjaynagar</th>\n",
       "      <td>1</td>\n",
       "    </tr>\n",
       "    <tr>\n",
       "      <th>North Indian Restaurant</th>\n",
       "      <th>HSR Layout</th>\n",
       "      <td>1</td>\n",
       "    </tr>\n",
       "    <tr>\n",
       "      <th>Paper / Office Supplies Store</th>\n",
       "      <th>Sanjaynagar</th>\n",
       "      <td>1</td>\n",
       "    </tr>\n",
       "    <tr>\n",
       "      <th rowspan=\"2\" valign=\"top\">Park</th>\n",
       "      <th>HSR Layout</th>\n",
       "      <td>1</td>\n",
       "    </tr>\n",
       "    <tr>\n",
       "      <th>Sanjaynagar</th>\n",
       "      <td>1</td>\n",
       "    </tr>\n",
       "    <tr>\n",
       "      <th rowspan=\"2\" valign=\"top\">Pizza Place</th>\n",
       "      <th>HSR Layout</th>\n",
       "      <td>5</td>\n",
       "    </tr>\n",
       "    <tr>\n",
       "      <th>Sanjaynagar</th>\n",
       "      <td>4</td>\n",
       "    </tr>\n",
       "    <tr>\n",
       "      <th>Pub</th>\n",
       "      <th>HSR Layout</th>\n",
       "      <td>1</td>\n",
       "    </tr>\n",
       "    <tr>\n",
       "      <th>Punjabi Restaurant</th>\n",
       "      <th>HSR Layout</th>\n",
       "      <td>2</td>\n",
       "    </tr>\n",
       "    <tr>\n",
       "      <th>Restaurant</th>\n",
       "      <th>Sanjaynagar</th>\n",
       "      <td>1</td>\n",
       "    </tr>\n",
       "    <tr>\n",
       "      <th>Sandwich Place</th>\n",
       "      <th>Sanjaynagar</th>\n",
       "      <td>1</td>\n",
       "    </tr>\n",
       "    <tr>\n",
       "      <th>Smoke Shop</th>\n",
       "      <th>Sanjaynagar</th>\n",
       "      <td>1</td>\n",
       "    </tr>\n",
       "    <tr>\n",
       "      <th rowspan=\"2\" valign=\"top\">Snack Place</th>\n",
       "      <th>HSR Layout</th>\n",
       "      <td>2</td>\n",
       "    </tr>\n",
       "    <tr>\n",
       "      <th>Sanjaynagar</th>\n",
       "      <td>1</td>\n",
       "    </tr>\n",
       "    <tr>\n",
       "      <th>Steakhouse</th>\n",
       "      <th>HSR Layout</th>\n",
       "      <td>1</td>\n",
       "    </tr>\n",
       "    <tr>\n",
       "      <th rowspan=\"2\" valign=\"top\">Trail</th>\n",
       "      <th>HSR Layout</th>\n",
       "      <td>1</td>\n",
       "    </tr>\n",
       "    <tr>\n",
       "      <th>Sanjaynagar</th>\n",
       "      <td>1</td>\n",
       "    </tr>\n",
       "    <tr>\n",
       "      <th rowspan=\"2\" valign=\"top\">Vegetarian / Vegan Restaurant</th>\n",
       "      <th>HSR Layout</th>\n",
       "      <td>1</td>\n",
       "    </tr>\n",
       "    <tr>\n",
       "      <th>Sanjaynagar</th>\n",
       "      <td>1</td>\n",
       "    </tr>\n",
       "  </tbody>\n",
       "</table>\n",
       "</div>"
      ],
      "text/plain": [
       "                                             Count\n",
       "Venue Category                Neighbourhood       \n",
       "American Restaurant           HSR Layout         1\n",
       "Asian Restaurant              Sanjaynagar        1\n",
       "BBQ Joint                     HSR Layout         1\n",
       "Bakery                        HSR Layout         1\n",
       "Bar                           Sanjaynagar        1\n",
       "Bike Shop                     HSR Layout         1\n",
       "Breakfast Spot                Sanjaynagar        1\n",
       "Burger Joint                  HSR Layout         1\n",
       "                              Sanjaynagar        1\n",
       "Business Service              HSR Layout         1\n",
       "Café                          HSR Layout         7\n",
       "                              Sanjaynagar        2\n",
       "Chettinad Restaurant          HSR Layout         1\n",
       "Chinese Restaurant            HSR Layout         2\n",
       "                              Sanjaynagar        5\n",
       "Coffee Shop                   HSR Layout         1\n",
       "                              Sanjaynagar        1\n",
       "Department Store              HSR Layout         4\n",
       "                              Sanjaynagar        2\n",
       "Diner                         Sanjaynagar        1\n",
       "Fast Food Restaurant          HSR Layout         1\n",
       "                              Sanjaynagar        6\n",
       "Fish & Chips Shop             HSR Layout         1\n",
       "Frozen Yogurt Shop            Sanjaynagar        1\n",
       "German Restaurant             Sanjaynagar        1\n",
       "Gym                           HSR Layout         2\n",
       "                              Sanjaynagar        1\n",
       "Ice Cream Shop                HSR Layout         5\n",
       "                              Sanjaynagar        8\n",
       "Indian Restaurant             HSR Layout         5\n",
       "                              Sanjaynagar       15\n",
       "Italian Restaurant            HSR Layout         3\n",
       "                              Sanjaynagar        2\n",
       "Kebab Restaurant              HSR Layout         1\n",
       "Lake                          HSR Layout         1\n",
       "Maharashtrian Restaurant      HSR Layout         1\n",
       "Mediterranean Restaurant      HSR Layout         1\n",
       "                              Sanjaynagar        1\n",
       "Mexican Restaurant            Sanjaynagar        1\n",
       "Middle Eastern Restaurant     HSR Layout         1\n",
       "Motorcycle Shop               Sanjaynagar        1\n",
       "North Indian Restaurant       HSR Layout         1\n",
       "Paper / Office Supplies Store Sanjaynagar        1\n",
       "Park                          HSR Layout         1\n",
       "                              Sanjaynagar        1\n",
       "Pizza Place                   HSR Layout         5\n",
       "                              Sanjaynagar        4\n",
       "Pub                           HSR Layout         1\n",
       "Punjabi Restaurant            HSR Layout         2\n",
       "Restaurant                    Sanjaynagar        1\n",
       "Sandwich Place                Sanjaynagar        1\n",
       "Smoke Shop                    Sanjaynagar        1\n",
       "Snack Place                   HSR Layout         2\n",
       "                              Sanjaynagar        1\n",
       "Steakhouse                    HSR Layout         1\n",
       "Trail                         HSR Layout         1\n",
       "                              Sanjaynagar        1\n",
       "Vegetarian / Vegan Restaurant HSR Layout         1\n",
       "                              Sanjaynagar        1"
      ]
     },
     "execution_count": 41,
     "metadata": {},
     "output_type": "execute_result"
    }
   ],
   "source": [
    "df_nearby_venues"
   ]
  },
  {
   "cell_type": "markdown",
   "metadata": {},
   "source": [
    "Plotting the two neighbourhoods along with their most popular venues in the same Map to see their similarity."
   ]
  },
  {
   "cell_type": "markdown",
   "metadata": {},
   "source": [
    "![](Plot_HSR_San.png)"
   ]
  },
  {
   "cell_type": "markdown",
   "metadata": {},
   "source": [
    "### 5. Discussion"
   ]
  },
  {
   "cell_type": "markdown",
   "metadata": {},
   "source": [
    "- There is a close relationship between the  amenities available in a neighbourhood and the average rental rates in the area - the more the amenities, the higher the rental rates of the neighnourhood\n",
    "- Neighboourhoods that are cheaper but also have fewer amentities than the rest tend to be found outside the outer ring road of Bengaluru\n",
    "- As one moves towards the interiors, the neighbourhoods become more desirable as is reflected in the increasing rental rates and amenities count\n",
    "- The outliers found earlier which had extremely high average rental rates compared to the rest of the city are all grouped pretty close to each other in central Bengaluru\n",
    "- Clusters 2 and 5 are similar in terms of amenities count and yet the former has an average rental rate that is 25% lesser - these are largely located in North East Bengaluru can be viewed as the developing areas of the city which are likely to yield high RoI in the future"
   ]
  },
  {
   "cell_type": "markdown",
   "metadata": {},
   "source": [
    "### 6. Conclusion"
   ]
  },
  {
   "cell_type": "markdown",
   "metadata": {},
   "source": [
    "By clustering, similar neighbourhoods, in terms of rental rates and amenities, have been identified across Bengaluru. Along the way, the relationship between the rental rates, amenities and location of the neighbourhoods also emerged organically.\n",
    "\n",
    "Using this, Sanjaynagar has been identified as the best location in North Bengaluru that closely resembles HSR Layout in South Bengaluru. A comparison of the two localities has also been presented."
   ]
  }
 ],
 "metadata": {
  "kernelspec": {
   "display_name": "Python",
   "language": "python",
   "name": "conda-env-python-py"
  },
  "language_info": {
   "codemirror_mode": {
    "name": "ipython",
    "version": 3
   },
   "file_extension": ".py",
   "mimetype": "text/x-python",
   "name": "python",
   "nbconvert_exporter": "python",
   "pygments_lexer": "ipython3",
   "version": "3.6.10"
  }
 },
 "nbformat": 4,
 "nbformat_minor": 4
}
